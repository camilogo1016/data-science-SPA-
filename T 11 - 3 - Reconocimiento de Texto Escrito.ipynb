{
 "cells": [
  {
   "cell_type": "markdown",
   "metadata": {},
   "source": [
    "# El dataset de MNIST"
   ]
  },
  {
   "cell_type": "code",
   "execution_count": 1,
   "metadata": {},
   "outputs": [],
   "source": [
    "import tensorflow as tf\n",
    "import random\n",
    "from skimage import io\n",
    "import numpy as np\n",
    "import matplotlib.pyplot as plt"
   ]
  },
  {
   "cell_type": "code",
   "execution_count": 2,
   "metadata": {},
   "outputs": [],
   "source": [
    "(images_train, labels_train), (images_test, labels_test) = tf.keras.datasets.mnist.load_data(path='mnist.npz')"
   ]
  },
  {
   "cell_type": "code",
   "execution_count": 4,
   "metadata": {},
   "outputs": [
    {
     "data": {
      "text/plain": [
       "<matplotlib.image.AxesImage at 0x2612b6fafc8>"
      ]
     },
     "execution_count": 4,
     "metadata": {},
     "output_type": "execute_result"
    },
    {
     "data": {
      "image/png": "[encoded data removed]",
      "text/plain": [
       "<Figure size 432x288 with 1 Axes>"
      ]
     },
     "metadata": {
      "needs_background": "light"
     },
     "output_type": "display_data"
    }
   ],
   "source": [
    "io.imshow(images_train[2])"
   ]
  },
  {
   "cell_type": "code",
   "execution_count": 5,
   "metadata": {},
   "outputs": [
    {
     "data": {
      "text/plain": [
       "4"
      ]
     },
     "execution_count": 5,
     "metadata": {},
     "output_type": "execute_result"
    }
   ],
   "source": [
    "labels_train[2]"
   ]
  },
  {
   "cell_type": "markdown",
   "metadata": {},
   "source": [
    "# Red Neuronal con TensorFlow v2.1.0\n",
    "* Las imágenes de entrenamiento de MNIST viven en un espacio vectorial dimensión 784 (28x28)\n",
    "* El Dataset se puede pensar como 60.000 filas y 784 columnas\n",
    "* Cada dato del Dataset es un número real entre 0-1 que indica el valor de luz en el pixel"
   ]
  },
  {
   "cell_type": "code",
   "execution_count": null,
   "metadata": {},
   "outputs": [],
   "source": []
  },
  {
   "cell_type": "markdown",
   "metadata": {},
   "source": [
    "# Hacerlo con Keras"
   ]
  },
  {
   "cell_type": "code",
   "execution_count": 6,
   "metadata": {},
   "outputs": [],
   "source": [
    "labels_train_encoded = tf.keras.utils.to_categorical(labels_train, num_classes=10)"
   ]
  },
  {
   "cell_type": "code",
   "execution_count": 7,
   "metadata": {},
   "outputs": [
    {
     "data": {
      "text/plain": [
       "0"
      ]
     },
     "execution_count": 7,
     "metadata": {},
     "output_type": "execute_result"
    }
   ],
   "source": [
    "labels_train[1]"
   ]
  },
  {
   "cell_type": "code",
   "execution_count": 8,
   "metadata": {},
   "outputs": [],
   "source": [
    "model1 = tf.keras.Sequential([\n",
    "    tf.keras.layers.Flatten(input_shape=(28, 28)),\n",
    "    tf.keras.layers.Dense(128, activation='relu'),\n",
    "    tf.keras.layers.Dense(10)\n",
    "])\n",
    "\n",
    "model1.compile(optimizer='adam',\n",
    "              loss=tf.keras.losses.SparseCategoricalCrossentropy(from_logits=True),  #Es la función de pérdidas\n",
    "              metrics=['accuracy'])"
   ]
  },
  {
   "cell_type": "code",
   "execution_count": 9,
   "metadata": {},
   "outputs": [
    {
     "name": "stdout",
     "output_type": "stream",
     "text": [
      "Train on 60000 samples\n",
      "Epoch 1/10\n",
      "60000/60000 [==============================] - 8s 139us/sample - loss: 2.2966 - accuracy: 0.8529\n",
      "Epoch 2/10\n",
      "60000/60000 [==============================] - 6s 105us/sample - loss: 0.3668 - accuracy: 0.9126\n",
      "Epoch 3/10\n",
      "60000/60000 [==============================] - 6s 107us/sample - loss: 0.2915 - accuracy: 0.9278\n",
      "Epoch 4/10\n",
      "60000/60000 [==============================] - 6s 107us/sample - loss: 0.2387 - accuracy: 0.9393\n",
      "Epoch 5/10\n",
      "60000/60000 [==============================] - 6s 104us/sample - loss: 0.2228 - accuracy: 0.9445\n",
      "Epoch 6/10\n",
      "60000/60000 [==============================] - 6s 107us/sample - loss: 0.2037 - accuracy: 0.9492\n",
      "Epoch 7/10\n",
      "60000/60000 [==============================] - 6s 108us/sample - loss: 0.2023 - accuracy: 0.9493\n",
      "Epoch 8/10\n",
      "60000/60000 [==============================] - 6s 106us/sample - loss: 0.1889 - accuracy: 0.9541\n",
      "Epoch 9/10\n",
      "60000/60000 [==============================] - 6s 108us/sample - loss: 0.1889 - accuracy: 0.9545\n",
      "Epoch 10/10\n",
      "60000/60000 [==============================] - 6s 106us/sample - loss: 0.1769 - accuracy: 0.9570\n"
     ]
    },
    {
     "data": {
      "text/plain": [
       "<tensorflow.python.keras.callbacks.History at 0x2612cae0948>"
      ]
     },
     "execution_count": 9,
     "metadata": {},
     "output_type": "execute_result"
    }
   ],
   "source": [
    "model1.fit(images_train, labels_train, epochs=7)"
   ]
  },
  {
   "cell_type": "markdown",
   "metadata": {},
   "source": [
    "### Evaluar el modelo"
   ]
  },
  {
   "cell_type": "code",
   "execution_count": 10,
   "metadata": {},
   "outputs": [
    {
     "name": "stdout",
     "output_type": "stream",
     "text": [
      "60000/60000 - 4s - loss: 0.1789 - accuracy: 0.9556\n"
     ]
    }
   ],
   "source": [
    "test_loss, test_accuracy = model1.evaluate(images_train, labels_train, verbose=2)"
   ]
  },
  {
   "cell_type": "code",
   "execution_count": 11,
   "metadata": {},
   "outputs": [
    {
     "name": "stdout",
     "output_type": "stream",
     "text": [
      "10000/10000 - 1s - loss: 0.2908 - accuracy: 0.9461\n"
     ]
    }
   ],
   "source": [
    "test_loss, test_accuracy = model1.evaluate(images_test, labels_test, verbose=2)"
   ]
  },
  {
   "cell_type": "markdown",
   "metadata": {},
   "source": [
    "### Matriz de predicciones"
   ]
  },
  {
   "cell_type": "code",
   "execution_count": 12,
   "metadata": {},
   "outputs": [],
   "source": [
    "predictions = tf.keras.Sequential([model1, \n",
    "                                  tf.keras.layers.Softmax()])"
   ]
  },
  {
   "cell_type": "code",
   "execution_count": 13,
   "metadata": {},
   "outputs": [],
   "source": [
    "predictions_test = predictions.predict(images_test)\n",
    "predictions_train = predictions.predict(images_train)"
   ]
  },
  {
   "cell_type": "markdown",
   "metadata": {},
   "source": [
    "### Graficar predicciones Vs. Reales"
   ]
  },
  {
   "cell_type": "code",
   "execution_count": 14,
   "metadata": {},
   "outputs": [],
   "source": [
    "N = 16\n",
    "rand_imag_test = random.sample(range(0, len(images_test)), N)\n",
    "predictions_test = np.argmax(predictions_test, axis=1)\n",
    "\n",
    "rand_imag_train = random.sample(range(0, len(images_train)), N)\n",
    "predictions_train = np.argmax(predictions_train, axis=1)"
   ]
  },
  {
   "cell_type": "code",
   "execution_count": 15,
   "metadata": {},
   "outputs": [
    {
     "data": {
      "image/png": "[encoded data removed]",
      "text/plain": [
       "<Figure size 1152x648 with 16 Axes>"
      ]
     },
     "metadata": {
      "needs_background": "light"
     },
     "output_type": "display_data"
    }
   ],
   "source": [
    "plt.figure(figsize=(16,9))\n",
    "pos=1\n",
    "\n",
    "for i in rand_imag_test:\n",
    "        temp_ = images_test[i]\n",
    "        val_real = labels_test[i]\n",
    "        val_predi = predictions_test[i]\n",
    "        \n",
    "        plt.subplot(4, 4, pos)\n",
    "        plt.axis(\"off\")\n",
    "        plt.imshow(temp_, cmap=\"gray\")\n",
    "        pos += 1\n",
    "        \n",
    "        color_guess = \"green\" if val_real==val_predi else \"red\"\n",
    "        plt.text(32,15, \"Real: {0} \\nPredicción: {1}\".format(val_real, val_predi), fontsize=12, color= color_guess)\n",
    "        #print(\"Forma:{0}, min:{1}, max:{2}\".format(temp_ima.shape, temp_ima.min(), temp_ima.max()))\n",
    "        plt.subplots_adjust(wspace=0.5)\n",
    "plt.show()"
   ]
  },
  {
   "cell_type": "code",
   "execution_count": 16,
   "metadata": {},
   "outputs": [
    {
     "data": {
      "image/png": "[encoded data removed]",
      "text/plain": [
       "<Figure size 1152x648 with 16 Axes>"
      ]
     },
     "metadata": {
      "needs_background": "light"
     },
     "output_type": "display_data"
    }
   ],
   "source": [
    "plt.figure(figsize=(16,9))\n",
    "pos=1\n",
    "\n",
    "for i in rand_imag_test:\n",
    "        temp_ = images_train[i]\n",
    "        val_real = labels_train[i]\n",
    "        val_predi = predictions_train[i]\n",
    "        \n",
    "        plt.subplot(4, 4, pos)\n",
    "        plt.axis(\"off\")\n",
    "        plt.imshow(temp_, cmap=\"gray\")\n",
    "        pos += 1\n",
    "        \n",
    "        color_guess = \"green\" if val_real==val_predi else \"red\"\n",
    "        plt.text(32,15, \"Real: {0} \\nPredicción: {1}\".format(val_real, val_predi), fontsize=12, color= color_guess)\n",
    "        #print(\"Forma:{0}, min:{1}, max:{2}\".format(temp_ima.shape, temp_ima.min(), temp_ima.max()))\n",
    "        plt.subplots_adjust(wspace=0.5)\n",
    "plt.show()"
   ]
  },
  {
   "cell_type": "code",
   "execution_count": 17,
   "metadata": {},
   "outputs": [
    {
     "name": "stdout",
     "output_type": "stream",
     "text": [
      "La eficacia de la predicción es del 95.56%\n"
     ]
    }
   ],
   "source": [
    "match_count = sum([int(predi == real) for predi, real in zip(predictions_train, labels_train)])\n",
    "\n",
    "acc = match_count / len(labels_train)*100\n",
    "print(\"La eficacia de la predicción es del {:0.2f}%\".format(acc))"
   ]
  },
  {
   "cell_type": "code",
   "execution_count": 18,
   "metadata": {},
   "outputs": [
    {
     "name": "stdout",
     "output_type": "stream",
     "text": [
      "La eficacia de la predicción es del 94.61%\n"
     ]
    }
   ],
   "source": [
    "match_count = sum([int(predi == real) for predi, real in zip(predictions_test, labels_test)])\n",
    "\n",
    "acc = match_count / len(labels_test)*100\n",
    "print(\"La eficacia de la predicción es del {:0.2f}%\".format(acc))"
   ]
  },
  {
   "cell_type": "code",
   "execution_count": null,
   "metadata": {},
   "outputs": [],
   "source": []
  },
  {
   "cell_type": "code",
   "execution_count": null,
   "metadata": {},
   "outputs": [],
   "source": []
  }
 ],
 "metadata": {
  "kernelspec": {
   "display_name": "Python 3",
   "language": "python",
   "name": "python3"
  },
  "language_info": {
   "codemirror_mode": {
    "name": "ipython",
    "version": 3
   },
   "file_extension": ".py",
   "mimetype": "text/x-python",
   "name": "python",
   "nbconvert_exporter": "python",
   "pygments_lexer": "ipython3",
   "version": "3.7.4"
  }
 },
 "nbformat": 4,
 "nbformat_minor": 2
}
