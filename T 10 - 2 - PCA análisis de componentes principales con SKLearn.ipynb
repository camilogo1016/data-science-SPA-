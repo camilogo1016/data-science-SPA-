{
 "cells": [
  {
   "cell_type": "code",
   "execution_count": 20,
   "metadata": {},
   "outputs": [],
   "source": [
    "import pandas as pd\n",
    "from plotly.graph_objs import *\n",
    "import chart_studio.plotly as py\n",
    "import chart_studio.tools as tls\n",
    "import plotly.graph_objs as go\n",
    "\n",
    "from sklearn.preprocessing import StandardScaler"
   ]
  },
  {
   "cell_type": "code",
   "execution_count": 7,
   "metadata": {},
   "outputs": [],
   "source": [
    "tls.set_credentials_file(username=\"camilogo1016\", api_key=\"7uUuLxKozSxCd8etbzgl\")"
   ]
  },
  {
   "cell_type": "code",
   "execution_count": 8,
   "metadata": {},
   "outputs": [],
   "source": [
    "df = pd.read_csv(\"../datasets/iris/iris.csv\")"
   ]
  },
  {
   "cell_type": "code",
   "execution_count": 10,
   "metadata": {},
   "outputs": [],
   "source": [
    "X = df.iloc[:,0:4].values\n",
    "Y = df.iloc[:,-1].values\n",
    "X_std = StandardScaler().fit_transform(X)"
   ]
  },
  {
   "cell_type": "code",
   "execution_count": 11,
   "metadata": {},
   "outputs": [],
   "source": [
    "from sklearn.decomposition import PCA as sk_pca"
   ]
  },
  {
   "cell_type": "code",
   "execution_count": 13,
   "metadata": {},
   "outputs": [],
   "source": [
    "acp = sk_pca(n_components=2)\n",
    "resu = acp.fit_transform(X_std)"
   ]
  },
  {
   "cell_type": "code",
   "execution_count": 23,
   "metadata": {},
   "outputs": [
    {
     "data": {
      "text/html": [
       "\n",
       "        <iframe\n",
       "            width=\"100%\"\n",
       "            height=\"525px\"\n",
       "            src=\"https://plot.ly/~camilogo1016/79.embed\"\n",
       "            frameborder=\"0\"\n",
       "            allowfullscreen\n",
       "        ></iframe>\n",
       "        "
      ],
      "text/plain": [
       "<IPython.lib.display.IFrame at 0x25ca9fb7548>"
      ]
     },
     "execution_count": 23,
     "metadata": {},
     "output_type": "execute_result"
    }
   ],
   "source": [
    "results = []\n",
    "colors = {'setosa': 'rgb(255,127,20)',\n",
    "          'versicolor': 'rgb(31, 220, 120)',\n",
    "          'virginica': 'rgb(44, 50, 180)'}\n",
    "\n",
    "for name in (\"setosa\", \"versicolor\", \"virginica\"):\n",
    "    result = go.Scatter(x = resu[Y==name, 0], y = resu[Y==name, 1], mode=\"markers\", \n",
    "                     name = name, marker_color = colors[name], marker_size=8, line_width=0.5, opacity=0.75)\n",
    "    results.append(result)\n",
    "data = go.Data(results)\n",
    "layout = go.Layout(xaxis = go.XAxis(title = \"CP1\", showline = False),\n",
    "                  yaxis= go.YAxis(title = \"CP2\", showline = False))\n",
    "\n",
    "fig = go.Figure(data,layout)\n",
    "fig.update_xaxes(zeroline=True, zerolinewidth=1, zerolinecolor='grey')\n",
    "fig.update_yaxes(zeroline=True, zerolinewidth=1, zerolinecolor='grey')\n",
    "\n",
    "py.iplot(fig)"
   ]
  },
  {
   "cell_type": "code",
   "execution_count": null,
   "metadata": {},
   "outputs": [],
   "source": []
  }
 ],
 "metadata": {
  "kernelspec": {
   "display_name": "Python 3",
   "language": "python",
   "name": "python3"
  },
  "language_info": {
   "codemirror_mode": {
    "name": "ipython",
    "version": 3
   },
   "file_extension": ".py",
   "mimetype": "text/x-python",
   "name": "python",
   "nbconvert_exporter": "python",
   "pygments_lexer": "ipython3",
   "version": "3.7.4"
  }
 },
 "nbformat": 4,
 "nbformat_minor": 2
}
