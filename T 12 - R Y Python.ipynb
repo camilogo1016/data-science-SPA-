{
 "cells": [
  {
   "cell_type": "markdown",
   "metadata": {},
   "source": [
    "# Juntando R y Python"
   ]
  },
  {
   "cell_type": "code",
   "execution_count": 2,
   "metadata": {},
   "outputs": [],
   "source": [
    "import pandas as pd\n",
    "import numpy as np"
   ]
  },
  {
   "cell_type": "code",
   "execution_count": 3,
   "metadata": {},
   "outputs": [],
   "source": [
    "import matplotlib.pyplot as plt\n",
    "%matplotlib inline"
   ]
  },
  {
   "cell_type": "code",
   "execution_count": 4,
   "metadata": {},
   "outputs": [],
   "source": [
    "import rpy2.robjects as ro\n",
    "import rpy2.robjects.numpy2ri"
   ]
  },
  {
   "cell_type": "code",
   "execution_count": 5,
   "metadata": {},
   "outputs": [],
   "source": [
    "rpy2.robjects.numpy2ri.activate()"
   ]
  },
  {
   "cell_type": "code",
   "execution_count": 6,
   "metadata": {},
   "outputs": [],
   "source": [
    "codigo_r = \"\"\"\n",
    "saludar <- function(cadena){\n",
    "    return(paste(\"Hola, \", cadena))\n",
    "}\n",
    "\n",
    "\"\"\""
   ]
  },
  {
   "cell_type": "code",
   "execution_count": 7,
   "metadata": {},
   "outputs": [
    {
     "data": {
      "text/plain": [
       "R object with classes: ('function',) mapped to:\n",
       "<SignatureTranslatedFunction - Python:0x000001A5D87D9E08 / R:0x000001A5EC746818>"
      ]
     },
     "execution_count": 7,
     "metadata": {},
     "output_type": "execute_result"
    }
   ],
   "source": [
    "ro.r(codigo_r)"
   ]
  },
  {
   "cell_type": "code",
   "execution_count": 8,
   "metadata": {},
   "outputs": [],
   "source": [
    "saludar_py = ro.globalenv[\"saludar\"]"
   ]
  },
  {
   "cell_type": "code",
   "execution_count": 9,
   "metadata": {},
   "outputs": [
    {
     "data": {
      "text/plain": [
       "'Hola,  Camilo'"
      ]
     },
     "execution_count": 9,
     "metadata": {},
     "output_type": "execute_result"
    }
   ],
   "source": [
    "res = saludar_py(\"Camilo\")\n",
    "res[0]"
   ]
  },
  {
   "cell_type": "code",
   "execution_count": 10,
   "metadata": {},
   "outputs": [],
   "source": [
    "var_from_python = ro.FloatVector(np.arange(1,5, 0.1))"
   ]
  },
  {
   "cell_type": "code",
   "execution_count": 11,
   "metadata": {},
   "outputs": [
    {
     "data": {
      "text/html": [
       "\n",
       "    <span>FloatVector with 40 elements.</span>\n",
       "    <table>\n",
       "      <tbody>\n",
       "      <tr>\n",
       "      \n",
       "      <td>\n",
       "        1.000000\n",
       "      </td>\n",
       "      \n",
       "      <td>\n",
       "        1.100000\n",
       "      </td>\n",
       "      \n",
       "      <td>\n",
       "        1.200000\n",
       "      </td>\n",
       "      \n",
       "      <td>\n",
       "        1.300000\n",
       "      </td>\n",
       "      \n",
       "      <td>\n",
       "        ...\n",
       "      </td>\n",
       "      \n",
       "      <td>\n",
       "        4.600000\n",
       "      </td>\n",
       "      \n",
       "      <td>\n",
       "        4.700000\n",
       "      </td>\n",
       "      \n",
       "      <td>\n",
       "        4.800000\n",
       "      </td>\n",
       "      \n",
       "      <td>\n",
       "        4.900000\n",
       "      </td>\n",
       "      \n",
       "      </tr>\n",
       "      </tbody>\n",
       "    </table>\n",
       "    "
      ],
      "text/plain": [
       "R object with classes: ('numeric',) mapped to:\n",
       "<FloatVector - Python:0x000001A5EC1AA608 / R:0x000001A5EC74AD98>\n",
       "[1.000000, 1.100000, 1.200000, 1.300000, ..., 4.600000, 4.700000, 4.800000, 4.900000]"
      ]
     },
     "execution_count": 11,
     "metadata": {},
     "output_type": "execute_result"
    }
   ],
   "source": [
    "var_from_python"
   ]
  },
  {
   "cell_type": "markdown",
   "metadata": {},
   "source": [
    "### Para ver la representación en R"
   ]
  },
  {
   "cell_type": "code",
   "execution_count": 12,
   "metadata": {},
   "outputs": [
    {
     "name": "stdout",
     "output_type": "stream",
     "text": [
      "c(1, 1.1, 1.2, 1.3, 1.4, 1.5, 1.6, 1.7, 1.8, 1.9, 2, 2.1, 2.2, \n",
      "2.3, 2.4, 2.5, 2.6, 2.7, 2.8, 2.9, 3, 3.1, 3.2, 3.3, 3.4, 3.5, \n",
      "3.6, 3.7, 3.8, 3.9, 4, 4.1, 4.2, 4.3, 4.4, 4.5, 4.6, 4.7, 4.8, \n",
      "4.9)\n"
     ]
    }
   ],
   "source": [
    "print(var_from_python.r_repr())"
   ]
  },
  {
   "cell_type": "markdown",
   "metadata": {},
   "source": [
    "#### En el ambiente \"R\" añade la variable \"var_to_r\" desde la variable de Python"
   ]
  },
  {
   "cell_type": "code",
   "execution_count": 13,
   "metadata": {},
   "outputs": [],
   "source": [
    "ro.globalenv[\"var_to_r\"] = var_from_python"
   ]
  },
  {
   "cell_type": "markdown",
   "metadata": {},
   "source": [
    "#### Esto ya es en lenguaje R"
   ]
  },
  {
   "cell_type": "code",
   "execution_count": 14,
   "metadata": {},
   "outputs": [
    {
     "data": {
      "text/plain": [
       "array([1. , 1.1, 1.2, 1.3, 1.4, 1.5, 1.6, 1.7, 1.8, 1.9, 2. , 2.1, 2.2,\n",
       "       2.3, 2.4, 2.5, 2.6, 2.7, 2.8, 2.9, 3. , 3.1, 3.2, 3.3, 3.4, 3.5,\n",
       "       3.6, 3.7, 3.8, 3.9, 4. , 4.1, 4.2, 4.3, 4.4, 4.5, 4.6, 4.7, 4.8,\n",
       "       4.9])"
      ]
     },
     "execution_count": 14,
     "metadata": {},
     "output_type": "execute_result"
    }
   ],
   "source": [
    "ro.r(\"var_to_r\")"
   ]
  },
  {
   "cell_type": "code",
   "execution_count": 15,
   "metadata": {},
   "outputs": [
    {
     "data": {
      "text/plain": [
       "array([118.])"
      ]
     },
     "execution_count": 15,
     "metadata": {},
     "output_type": "execute_result"
    }
   ],
   "source": [
    "ro.r(\"sum(var_to_r)\")"
   ]
  },
  {
   "cell_type": "code",
   "execution_count": 16,
   "metadata": {},
   "outputs": [
    {
     "data": {
      "text/plain": [
       "array([2.95])"
      ]
     },
     "execution_count": 16,
     "metadata": {},
     "output_type": "execute_result"
    }
   ],
   "source": [
    "ro.r(\"mean(var_to_r)\")"
   ]
  },
  {
   "cell_type": "code",
   "execution_count": 17,
   "metadata": {},
   "outputs": [
    {
     "data": {
      "text/plain": [
       "array([1.16904519])"
      ]
     },
     "execution_count": 17,
     "metadata": {},
     "output_type": "execute_result"
    }
   ],
   "source": [
    "ro.r(\"sd(var_to_r)\")"
   ]
  },
  {
   "cell_type": "code",
   "execution_count": 18,
   "metadata": {},
   "outputs": [
    {
     "data": {
      "text/plain": [
       "118.00000000000007"
      ]
     },
     "execution_count": 18,
     "metadata": {},
     "output_type": "execute_result"
    }
   ],
   "source": [
    "np.sum(var_from_python)"
   ]
  },
  {
   "cell_type": "code",
   "execution_count": 19,
   "metadata": {},
   "outputs": [
    {
     "data": {
      "text/plain": [
       "2.950000000000002"
      ]
     },
     "execution_count": 19,
     "metadata": {},
     "output_type": "execute_result"
    }
   ],
   "source": [
    "np.mean(var_from_python)"
   ]
  },
  {
   "cell_type": "markdown",
   "metadata": {},
   "source": [
    "### Una herramienta muy útil de R es summary(data), la cual entrega:\n",
    "* El valor mínimo\n",
    "* El primer cuartil\n",
    "* La mediana\n",
    "* La media\n",
    "* El valor máximo"
   ]
  },
  {
   "cell_type": "code",
   "execution_count": 20,
   "metadata": {},
   "outputs": [
    {
     "data": {
      "text/plain": [
       "array([1.   , 1.975, 2.95 , 2.95 , 3.925, 4.9  ])"
      ]
     },
     "execution_count": 20,
     "metadata": {},
     "output_type": "execute_result"
    }
   ],
   "source": [
    "ro.r(\"summary(var_to_r)\")"
   ]
  },
  {
   "cell_type": "code",
   "execution_count": 21,
   "metadata": {},
   "outputs": [],
   "source": [
    "#ro.r(\"hist(var_to_r, breaks = 4)\")"
   ]
  },
  {
   "cell_type": "markdown",
   "metadata": {},
   "source": [
    "# Trabajar de forma conjunta entre R y Python"
   ]
  },
  {
   "cell_type": "code",
   "execution_count": 22,
   "metadata": {},
   "outputs": [],
   "source": [
    "from rpy2.robjects.packages import importr"
   ]
  },
  {
   "cell_type": "code",
   "execution_count": 23,
   "metadata": {},
   "outputs": [],
   "source": [
    "extremes = importr(\"extRemes\")  #libreria extremes"
   ]
  },
  {
   "cell_type": "code",
   "execution_count": 66,
   "metadata": {},
   "outputs": [],
   "source": [
    "fevd = extremes.fevd"
   ]
  },
  {
   "cell_type": "code",
   "execution_count": 25,
   "metadata": {},
   "outputs": [
    {
     "name": "stdout",
     "output_type": "stream",
     "text": [
      "Python representation of an R function.\r\n",
      "description\r\n",
      "-----------\r\n",
      "\r\n",
      "\n",
      " Fit a univariate extreme value distribution functions (e.g., GEV, GP, PP, Gumbel, or Exponential) to data; possibly with covariates in the parameters.\n",
      " \r\n",
      "\r\n",
      "\r\n",
      "fevd(\r\n",
      "    x,\r\n",
      "    data,\r\n",
      "    threshold = rinterface.NULL,\r\n",
      "    threshold_fun = ~,\r\n",
      "    location_fun = ~,\r\n",
      "    scale_fun = ~,\r\n",
      "    shape_fun = ~,\r\n",
      "    use_phi = False,\r\n",
      "    type = c,\r\n",
      "    method = c,\r\n",
      "    initial = rinterface.NULL,\r\n",
      "    span,\r\n",
      "    units = rinterface.NULL,\r\n",
      "    time_units = days,\r\n",
      "    period_basis = year,\r\n",
      "    na_action = <rpy2.rinterface.ListSexpVector - Python:0x000001A5ED6695D0 / R:0x000001A5E97D6478>,\r\n",
      "    optim_args = rinterface.NULL,\r\n",
      "    priorFun = rinterface.NULL,\r\n",
      "    priorParams = rinterface.NULL,\r\n",
      "    proposalFun = rinterface.NULL,\r\n",
      "    proposalParams = rinterface.NULL,\r\n",
      "    iter = 9999.0,\r\n",
      "    weights = 1.0,\r\n",
      "    blocks = rinterface.NULL,\r\n",
      "    verbose = False,\r\n",
      ")\r\n",
      "\r\n",
      "x :  `fevd`: `x` can be a numeric vector, the name of a column of `data` or a formula giving the data to which the EVD is to be fit.  In the case of the latter two, the `data` argument must be specified, and must have appropriately named columns.`plot` and `print` method functions: any list object returned by `fevd`. ,\r\n",
      "\r\n",
      "object :  A list object of class \\dQuote{fevd} as returned by `fevd`. ,\r\n",
      "\r\n",
      "data :  A data frame object with named columns giving the data to be fit, as well as any data necessary for modeling non-stationarity through the threshold and/or any of the parameters. ,\r\n",
      "\r\n",
      "threshold :  numeric (single or vector).  If fitting a peak over threshold (POT) model (i.e., `type` = \\dQuote{PP}, \\dQuote{GP}, \\dQuote{Exponential}) this is the threshold over which (non-inclusive) data (or excesses) are used to estimate the parameters of the distribution function.  If the length is greater than 1, then the length must be equal to either the length of `x` (or number of rows of `data`) or to the number of unique arguments in `threshold.fun`. ,\r\n",
      "\r\n",
      "threshold.fun :  formula describing a model for the thresholds using columns from `data`.  Any valid formula will work.  `data` must be supplied if this argument is anything other than ~ 1.  Not for use with `method` \\dQuote{Lmoments}. ,\r\n",
      "\r\n",
      "location.fun :  formula describing a model for each parameter using columns from `data`.  `data` must be supplied if any of these arguments are anything other than ~ 1. ,\r\n",
      "\r\n",
      "scale.fun :  formula describing a model for each parameter using columns from `data`.  `data` must be supplied if any of these arguments are anything other than ~ 1. ,\r\n",
      "\r\n",
      "shape.fun :  formula describing a model for each parameter using columns from `data`.  `data` must be supplied if any of these arguments are anything other than ~ 1. ,\r\n",
      "\r\n",
      "use.phi :  logical; should the log of the scale parameter be used in the numerical optimization (for `method` \\dQuote{MLE}, \\dQuote{GMLE} and \\dQuote{Bayesian} only)?  For the ML and GML estimation, this may make things more stable for some data. ,\r\n",
      "\r\n",
      "type :  `fevd`: character stating which EVD to fit.  Default is to fit the generalized extreme value (GEV) distribution function (df).`plot` method function: character describing which plot(s) is (are) desired.  Default is \\dQuote{primary}, which makes a 2 by 2 panel of plots including the QQ plot of the data quantiles against the fitted model quantiles (`type` \\dQuote{qq}), a QQ plot (\\dQuote{qq2}) of quantiles from model-simulated data against the data, a density plot of the data along with the model fitted density (`type` \\dQuote{density}) and a return level plot (`type` \\dQuote{rl}). In the case of a stationary (fixed) model, the return level plot will show return levels calculated for return periods given by `return.period`, along with associated CIs (calculated using default `method` arguments depending on the estimation method used in the fit.  For non-stationary models, the data are plotted as a line along with associated effective return levels for return periods of 2, 20 and 100 years (unless `return.period` is specified by the user to other values.  Other possible values for `type` include \\dQuote{hist}, which is similar to \\dQuote{density}, but shows the histogram for the data and \\dQuote{trace}, which is not used for L-moment fits.  In the case of MLE/GMLE, the trace yields a panel of plots that show the negative log-likelihood and gradient negative log-likelihood (note that the MLE gradient is currently used even for GMLE) for each of the estimated parameter(s); allowing one parameter to vary according to `prange`, while the others remain fixed at their estimated values.  In the case of Bayesian estimation, the \\dQuote{trace} option creates a panel of plots showing the posterior df and MCMC trace for each parameter. ,\r\n",
      "\r\n",
      "method :  `fevd`: character naming which type of estimation method to use.  Default is to use maximum likelihood estimation (MLE). ,\r\n",
      "\r\n",
      "initial :  A list object with any named parameter component giving the initial value estimates for starting the numerical optimization (MLE/GMLE) or the MCMC iterations (Bayesian).  In the case of MLE/GMLE, it is best to obtain a good intial guess, and in the Bayesian case, it is perhaps better to choose poor initial estimates.  If NULL (default), then L-moments estimates and estimates based on Gumbel moments will be calculated, and whichever yields the lowest negative log-likelihood is used.  In the case of `type` \\dQuote{PP}, an additional MLE/GMLE estimate is made for the generalized Pareto (GP) df, and parameters are converted to those of the Poisson Process (PP) model.  Again, the initial estimates yielding the lowest negative log-likelihoo value are used for the initial guess. ,\r\n",
      "\r\n",
      "span :  single numeric giving the number of years (or other desired temporal unit) in the data set.  Only used for POT models, and only important in the estimation for the PP model, but important for subsequent estimates of return levels for any POT model.  If missing, it will be calculated using information from `time.units`. ,\r\n",
      "\r\n",
      "units :  (optional) character giving the units of the data, which if given may be used subsequently (e.g., on plot axis labels, etc.). ,\r\n",
      "\r\n",
      "time.units :  character string that must be one of \\dQuote{hours}, \\dQuote{minutes}, \\dQuote{seconds}, \\dQuote{days}, \\dQuote{months}, \\dQuote{years}, \\dQuote{m/hour}, \\dQuote{m/minute}, \\dQuote{m/second}, \\dQuote{m/day}, \\dQuote{m/month}, or \\dQuote{m/year}; where m is a number.  If `span` is missing, then this argument is used in determining the value of `span`.  It is also returned with the output and used subsequently for plot labelling, etc. ,\r\n",
      "\r\n",
      "period.basis :  character string giving the units for the period.  Used only for plot labelling and naming output vectors from some of the method functions (e.g., for establishing what the period represents for the return period). ,\r\n",
      "\r\n",
      "rperiods :  numeric vector giving the return period(s) for which it is desired to calculate the corresponding return levels. ,\r\n",
      "\r\n",
      "period :  character string naming the units for the return period. ,\r\n",
      "\r\n",
      "burn.in :  The first `burn.in` values are thrown out before calculating anything from the MCMC sample. ,\r\n",
      "\r\n",
      "a :  when plotting empirical probabilies and such, the function `ppoints` is called, which has this argument `a`. ,\r\n",
      "\r\n",
      "d :  numeric determining how to scale the rate parameter for the point process.  If NULL, the function will attempt to scale based on the values of `period.basis` and `time.units`, the first of which must be \\dQuote{year} and the second of which must be one of \\dQuote{days}, \\dQuote{months}, \\dQuote{years}, \\dQuote{hours}, \\dQuote{minutes} or \\dQuote{seconds}.  If none of these are the case, then `d` should be specified, otherwise, it is not necessary. ,\r\n",
      "\r\n",
      "density.args :  named list object containing arguments to the `density` and `hist` functions, respectively. ,\r\n",
      "\r\n",
      "hist.args :  named list object containing arguments to the `density` and `hist` functions, respectively. ,\r\n",
      "\r\n",
      "na.action :  function to be called to handle missing values.  Generally, this should remain at the default (na.fail), and the user should take care to impute missing values in an appropriate manner as it may have serious consequences on the results. ,\r\n",
      "\r\n",
      "optim.args :  A list with named components matching exactly any arguments that the user wishes to specify to `optim`, which is used only for MLE and GMLE methods.  By default, the \\dQuote{BFGS} method is used along with `grlevd` for the gradient argument.  Generally, the `grlevd` function is used for the `gr` option unless the user specifies otherwise, or the optimization method does not take gradient information. ,\r\n",
      "\r\n",
      "priorFun :  character naming a prior df to use for methods GMLE and Bayesian.  The default for GMLE (not including Gumbel or Exponential types) is to use the one suggested by Martins and Stedinger (2000, 2001) on the shape parameter; a beta df on -0.5 to 0.5 with parameters `p` and `q`.  Must take `x` as its first argument for `method` \\dQuote{GMLE}.  Optional arguments for the default function are `p` and `q` (see details section).The default for Bayesian estimation is to use normal distribution functions.  For Bayesian estimation, this function must take `theta` as its first argument.Note: if this argument is not NULL and `method` is set to \\dQuote{MLE}, it will be changed to \\dQuote{GMLE}. ,\r\n",
      "\r\n",
      "priorParams :  named list containing any prior df parameters (where the list names are the same as the function argument names).  Default for GMLE (assuming the default function is used) is to use `q` = 6 and `p` = 9.  Note that in the Martins and Stedinger (2000, 2001) papers, they use a different EVD parametrization than is used here such that a positive shape parameter gives the upper bounded distribution instead of the heavy-tail one (as emloyed here).  To be consistent with these papers, `p` and `q` are reversed inside the code so that they have the same interpretation as in the papers.Default for Bayesian estimation is to use ML estimates for the means of each parameter (may be changed using `m`, which must be a vector of same length as the number of parameters to be estimated (i.e., if using the default prior df)) and a standard deviation of 10 for all other parameters (again, if using the default prior df, may be changed using `v`, which must be a vector of length equal to the number of parameters). ,\r\n",
      "\r\n",
      "proposalFun :  For Bayesian estimation only, this is a character naming a function used to generate proposal parameters at each iteration of the MCMC.  If NULL (default), a random walk chain is used whereby if theta.i is the current value of the parameter, the proposed new parameter theta.star is given by theta.i + z, where z is drawn at random from a normal df. ,\r\n",
      "\r\n",
      "proposalParams :  A named list object describing any optional arguments to the `proposalFun` function.  All functions must take argument `p`, which must be a vector of the parameters, and `ind`, which is used to identify which parameter is to be proposed.  The default `proposalFun` function takes additional arguments `mean` and `sd`, which must be vectors of length equal to the number of parameters in the model (default is to use zero for the mean of z for every parameter and 0.1 for its standard deviation). ,\r\n",
      "\r\n",
      "iter :  Used only for Bayesian estimation, this is the number of MCMC iterations to do. ,\r\n",
      "\r\n",
      "weights :  numeric of length 1 or n giving weights to be applied     in the likelihood calculations (e.g., if there are data points to     be weighted more/less heavily than others). ,\r\n",
      "\r\n",
      "blocks :  An optional list containing information required to fit point process models in a computationally-efficient manner by using only the exceedances and not the observations below the threshold(s). See details for further information.       ,\r\n",
      "\r\n",
      "FUN :  character string naming a function to use to estimate the parameters from the MCMC sample.  The function is applied to each column of the `results` component of the returned `fevd` object. ,\r\n",
      "\r\n",
      "verbose :  logical; should progress information be printed to the screen?  If TRUE, for MLE/GMLE, the argument `trace` will be set to 6 in the call to `optim`. ,\r\n",
      "\r\n",
      "prange :  matrix whose columns are numeric vectors of length two for each parameter in the model giving the parameter range over which trace plots should be made.  Default is to use either +/- 2 * std. err. of the parameter (first choice) or, if the standard error cannot be calculated, then +/- 2 * log2(abs(parameter)).  Typically, these values seem to work very well for these plots. ,\r\n",
      "\r\n",
      "... :  Not used by most functions here.  Optional arguments to `plot` for the various `plot` method functions.In the case of the `summary` method functions, the logical argument `silent` may be passed to suppress (if TRUE) printing any information to the screen. ,\r\n",
      "\n"
     ]
    }
   ],
   "source": [
    "print(fevd.__doc__)"
   ]
  },
  {
   "cell_type": "code",
   "execution_count": 26,
   "metadata": {},
   "outputs": [],
   "source": [
    "data = pd.read_csv(\"../datasets/time/time_series.txt\", \n",
    "                  sep =\"\\s+\", skiprows = 1, parse_dates = [[0,1]],\n",
    "                  names = [\"data\", \"time\", \"windspeed\"],\n",
    "                  index_col=0)"
   ]
  },
  {
   "cell_type": "code",
   "execution_count": 27,
   "metadata": {},
   "outputs": [
    {
     "data": {
      "text/html": [
       "<div>\n",
       "<style scoped>\n",
       "    .dataframe tbody tr th:only-of-type {\n",
       "        vertical-align: middle;\n",
       "    }\n",
       "\n",
       "    .dataframe tbody tr th {\n",
       "        vertical-align: top;\n",
       "    }\n",
       "\n",
       "    .dataframe thead th {\n",
       "        text-align: right;\n",
       "    }\n",
       "</style>\n",
       "<table border=\"1\" class=\"dataframe\">\n",
       "  <thead>\n",
       "    <tr style=\"text-align: right;\">\n",
       "      <th></th>\n",
       "      <th>windspeed</th>\n",
       "    </tr>\n",
       "    <tr>\n",
       "      <th>data_time</th>\n",
       "      <th></th>\n",
       "    </tr>\n",
       "  </thead>\n",
       "  <tbody>\n",
       "    <tr>\n",
       "      <td>1983-01-01 00:00:00</td>\n",
       "      <td>7.9</td>\n",
       "    </tr>\n",
       "    <tr>\n",
       "      <td>1983-01-01 01:00:00</td>\n",
       "      <td>8.2</td>\n",
       "    </tr>\n",
       "    <tr>\n",
       "      <td>1983-01-01 02:00:00</td>\n",
       "      <td>8.5</td>\n",
       "    </tr>\n",
       "    <tr>\n",
       "      <td>1983-01-01 03:00:00</td>\n",
       "      <td>9.0</td>\n",
       "    </tr>\n",
       "    <tr>\n",
       "      <td>1983-01-01 04:00:00</td>\n",
       "      <td>9.9</td>\n",
       "    </tr>\n",
       "  </tbody>\n",
       "</table>\n",
       "</div>"
      ],
      "text/plain": [
       "                     windspeed\n",
       "data_time                     \n",
       "1983-01-01 00:00:00        7.9\n",
       "1983-01-01 01:00:00        8.2\n",
       "1983-01-01 02:00:00        8.5\n",
       "1983-01-01 03:00:00        9.0\n",
       "1983-01-01 04:00:00        9.9"
      ]
     },
     "execution_count": 27,
     "metadata": {},
     "output_type": "execute_result"
    }
   ],
   "source": [
    "data.head()"
   ]
  },
  {
   "cell_type": "code",
   "execution_count": 28,
   "metadata": {},
   "outputs": [
    {
     "data": {
      "text/plain": [
       "275352"
      ]
     },
     "execution_count": 28,
     "metadata": {},
     "output_type": "execute_result"
    }
   ],
   "source": [
    "len(data)"
   ]
  },
  {
   "cell_type": "markdown",
   "metadata": {},
   "source": [
    "### Queremos encontrar la velocidad del viento máxima por año:"
   ]
  },
  {
   "cell_type": "code",
   "execution_count": 67,
   "metadata": {},
   "outputs": [],
   "source": [
    "max_ws = data.windspeed.groupby(pd.Grouper(freq = \"A\")).max()  ## Se puede hacer con min, mean, lo que quiera"
   ]
  },
  {
   "cell_type": "code",
   "execution_count": 68,
   "metadata": {},
   "outputs": [
    {
     "data": {
      "text/plain": [
       "data_time\n",
       "1983-12-31    22.2\n",
       "1984-12-31    25.5\n",
       "1985-12-31    21.5\n",
       "1986-12-31    22.5\n",
       "1987-12-31    23.7\n",
       "Freq: A-DEC, Name: windspeed, dtype: float64"
      ]
     },
     "execution_count": 68,
     "metadata": {},
     "output_type": "execute_result"
    }
   ],
   "source": [
    "max_ws.head()"
   ]
  },
  {
   "cell_type": "code",
   "execution_count": 31,
   "metadata": {},
   "outputs": [
    {
     "data": {
      "text/plain": [
       "<matplotlib.axes._subplots.AxesSubplot at 0x1a5ec0b5ec8>"
      ]
     },
     "execution_count": 31,
     "metadata": {},
     "output_type": "execute_result"
    },
    {
     "data": {
      "image/png": "[encoded data removed]",
      "text/plain": [
       "<Figure size 1152x648 with 1 Axes>"
      ]
     },
     "metadata": {
      "needs_background": "light"
     },
     "output_type": "display_data"
    }
   ],
   "source": [
    "max_ws.plot(kind=\"bar\", figsize=(16,9))"
   ]
  },
  {
   "cell_type": "code",
   "execution_count": 75,
   "metadata": {},
   "outputs": [],
   "source": [
    "result = fevd(max_ws.values, type =\"GEV\", method =\"GMLE\")"
   ]
  },
  {
   "cell_type": "code",
   "execution_count": 33,
   "metadata": {},
   "outputs": [
    {
     "data": {
      "text/plain": [
       "rpy2.robjects.vectors.ListVector"
      ]
     },
     "execution_count": 33,
     "metadata": {},
     "output_type": "execute_result"
    }
   ],
   "source": [
    "type(result)"
   ]
  },
  {
   "cell_type": "code",
   "execution_count": 34,
   "metadata": {},
   "outputs": [
    {
     "data": {
      "text/plain": [
       "<bound method RObjectMixin.r_repr of R object with classes: ('fevd',) mapped to:\n",
       "<ListVector - Python:0x000001A5EDA30508 / R:0x000001A5EA3AF638>\n",
       "[Vector, StrVector, FloatVector, Array, ..., StrVector, StrVector, ListVector, ListVector]\n",
       "  call: <class 'rpy2.robjects.vectors.Vector'>\n",
       "  R object with classes: ('fevd',) mapped to:\n",
       "<Vector - Python:0x000001A5EDA34C88 / R:0x000001A5ECD8AE08>\n",
       "[SignatureT..., Array, StrVector, StrVector]\n",
       "  data.name: <class 'rpy2.robjects.vectors.StrVector'>\n",
       "  R object with classes: ('character',) mapped to:\n",
       "<StrVector - Python:0x000001A5EDA26188 / R:0x000001A5EA2A44D8>\n",
       "['struct..., '23.8, ..., '22.6, ..., '25.3),..., '']\n",
       "  weights: <class 'rpy2.robjects.vectors.FloatVector'>\n",
       "  R object with classes: ('numeric',) mapped to:\n",
       "<FloatVector - Python:0x000001A5EDC96A48 / R:0x000001A5E9F21FA8>\n",
       "[1.000000]\n",
       "  missing.values: <class 'rpy2.robjects.vectors.Array'>\n",
       "  R object with classes: ('array',) mapped to:\n",
       "<Array - Python:0x000001A5E9B79808 / R:0x000001A5ED51B708>\n",
       "[       0,        0,        0,        0, ...,        0,        0,        0,        0]\n",
       "...\n",
       "  x: <class 'rpy2.robjects.vectors.StrVector'>\n",
       "  R object with classes: ('character',) mapped to:\n",
       "<StrVector - Python:0x000001A5EDC9D248 / R:0x000001A5ED6B76D8>\n",
       "['na.fail']\n",
       "  priorFun: <class 'rpy2.robjects.vectors.StrVector'>\n",
       "  R object with classes: ('character',) mapped to:\n",
       "<StrVector - Python:0x000001A5EDC9D588 / R:0x000001A5ED6C6EB8>\n",
       "['location', 'scale', 'shape']\n",
       "R object with classes: ('fevd',) mapped to:\n",
       "<ListVector - Python:0x000001A5EDA30508 / R:0x000001A5EA3AF638>\n",
       "[Vector, StrVector, FloatVector, Array, ..., StrVector, StrVector, ListVector, ListVector]\n",
       "R object with classes: ('fevd',) mapped to:\n",
       "<ListVector - Python:0x000001A5EDA30508 / R:0x000001A5EA3AF638>\n",
       "[Vector, StrVector, FloatVector, Array, ..., StrVector, StrVector, ListVector, ListVector]>"
      ]
     },
     "execution_count": 34,
     "metadata": {},
     "output_type": "execute_result"
    }
   ],
   "source": [
    "result.r_repr"
   ]
  },
  {
   "cell_type": "code",
   "execution_count": 35,
   "metadata": {},
   "outputs": [
    {
     "name": "stdout",
     "output_type": "stream",
     "text": [
      " [1] \"call\"            \"data.name\"       \"weights\"         \"missing.values\" \n",
      "\r\n",
      " [5] \"in.data\"         \"x\"               \"priorFun\"        \"priorParams\"    \n",
      "\r\n",
      " [9] \"method\"          \"type\"            \"period.basis\"    \"par.models\"     \n",
      "\r\n",
      "[13] \"const.loc\"       \"const.scale\"     \"const.shape\"     \"n\"              \n",
      "\r\n",
      "[17] \"na.action\"       \"parnames\"        \"results\"         \"initial.results\"\n",
      "\n"
     ]
    }
   ],
   "source": [
    "print(result.names)"
   ]
  },
  {
   "cell_type": "code",
   "execution_count": 36,
   "metadata": {},
   "outputs": [],
   "source": [
    "res = result.rx(\"results\")"
   ]
  },
  {
   "cell_type": "code",
   "execution_count": 37,
   "metadata": {},
   "outputs": [
    {
     "name": "stdout",
     "output_type": "stream",
     "text": [
      "$results\n",
      "\r\n",
      "$results$par\n",
      "\r\n",
      "  location      scale      shape \n",
      "\r\n",
      "23.0639415  1.7576913 -0.1628816 \n",
      "\r\n",
      "\n",
      "\r\n",
      "$results$value\n",
      "\r\n",
      "[1] 1e+16\n",
      "\r\n",
      "\n",
      "\r\n",
      "$results$counts\n",
      "\r\n",
      "function gradient \n",
      "\r\n",
      "       1        1 \n",
      "\r\n",
      "\n",
      "\r\n",
      "$results$convergence\n",
      "\r\n",
      "[1] 0\n",
      "\r\n",
      "\n",
      "\r\n",
      "$results$message\n",
      "\r\n",
      "NULL\n",
      "\r\n",
      "\n",
      "\r\n",
      "$results$hessian\n",
      "\r\n",
      "         location scale shape\n",
      "\r\n",
      "location        0     0     0\n",
      "\r\n",
      "scale           0     0     0\n",
      "\r\n",
      "shape           0     0     0\n",
      "\r\n",
      "\n",
      "\r\n",
      "$results$num.pars\n",
      "\r\n",
      "$results$num.pars$location\n",
      "\r\n",
      "[1] 1\n",
      "\r\n",
      "\n",
      "\r\n",
      "$results$num.pars$scale\n",
      "\r\n",
      "[1] 1\n",
      "\r\n",
      "\n",
      "\r\n",
      "$results$num.pars$shape\n",
      "\r\n",
      "[1] 1\n",
      "\r\n",
      "\n",
      "\r\n",
      "\n",
      "\r\n",
      "\n",
      "\n"
     ]
    }
   ],
   "source": [
    "print(res)"
   ]
  },
  {
   "cell_type": "code",
   "execution_count": 38,
   "metadata": {},
   "outputs": [],
   "source": [
    "loc, scale, shape = res[0].rx(\"par\")[0]"
   ]
  },
  {
   "cell_type": "code",
   "execution_count": 39,
   "metadata": {},
   "outputs": [
    {
     "data": {
      "text/plain": [
       "(23.063941519915588, 1.7576912874286317, -0.1628816367714792)"
      ]
     },
     "execution_count": 39,
     "metadata": {},
     "output_type": "execute_result"
    }
   ],
   "source": [
    "loc, scale, shape"
   ]
  },
  {
   "cell_type": "markdown",
   "metadata": {},
   "source": [
    "# Función Mágica para R"
   ]
  },
  {
   "cell_type": "code",
   "execution_count": 40,
   "metadata": {},
   "outputs": [],
   "source": [
    "%load_ext rpy2.ipython"
   ]
  },
  {
   "cell_type": "code",
   "execution_count": 41,
   "metadata": {},
   "outputs": [
    {
     "name": "stdout",
     "output_type": "stream",
     "text": [
      "Help on function R in module rpy2.ipython.rmagic:\n",
      "\n",
      "R(self, line, cell=None, local_ns=None)\n",
      "    ::\n",
      "    \n",
      "      %R [-i INPUT] [-o OUTPUT] [-n] [-w WIDTH] [-h HEIGHT] [-p POINTSIZE]\n",
      "             [-b BG] [--noisolation] [-u {px,in,cm,mm}] [-r RES] [-c CONVERTER]\n",
      "             [code [code ...]]\n",
      "    \n",
      "    Execute code in R, optionally returning results to the Python runtime.\n",
      "    \n",
      "    In line mode, this will evaluate an expression and convert the returned\n",
      "    value to a Python object.  The return value is determined by rpy2's\n",
      "    behaviour of returning the result of evaluating the final expression.\n",
      "    \n",
      "    Multiple R expressions can be executed by joining them with semicolons::\n",
      "    \n",
      "        In [9]: %R X=c(1,4,5,7); sd(X); mean(X)\n",
      "        Out[9]: array([ 4.25])\n",
      "    \n",
      "    In cell mode, this will run a block of R code. The resulting value\n",
      "    is printed if it would be printed when evaluating the same code\n",
      "    within a standard R REPL.\n",
      "    \n",
      "    Nothing is returned to python by default in cell mode::\n",
      "    \n",
      "        In [10]: %%R\n",
      "           ....: Y = c(2,4,3,9)\n",
      "           ....: summary(lm(Y~X))\n",
      "    \n",
      "        Call:\n",
      "        lm(formula = Y ~ X)\n",
      "    \n",
      "        Residuals:\n",
      "            1     2     3     4\n",
      "         0.88 -0.24 -2.28  1.64\n",
      "    \n",
      "        Coefficients:\n",
      "                    Estimate Std. Error t value Pr(>|t|)\n",
      "        (Intercept)   0.0800     2.3000   0.035    0.975\n",
      "        X             1.0400     0.4822   2.157    0.164\n",
      "    \n",
      "        Residual standard error: 2.088 on 2 degrees of freedom\n",
      "        Multiple R-squared: 0.6993,Adjusted R-squared: 0.549\n",
      "        F-statistic: 4.651 on 1 and 2 DF,  p-value: 0.1638\n",
      "    \n",
      "    In the notebook, plots are published as the output of the cell::\n",
      "    \n",
      "        %R plot(X, Y)\n",
      "    \n",
      "    will create a scatter plot of X bs Y.\n",
      "    \n",
      "    If cell is not None and line has some R code, it is prepended to\n",
      "    the R code in cell.\n",
      "    \n",
      "    Objects can be passed back and forth between rpy2 and python via the -i -o flags in line::\n",
      "    \n",
      "        In [14]: Z = np.array([1,4,5,10])\n",
      "    \n",
      "        In [15]: %R -i Z mean(Z)\n",
      "        Out[15]: array([ 5.])\n",
      "    \n",
      "        In [16]: %R -o W W=Z*mean(Z)\n",
      "        Out[16]: array([  5.,  20.,  25.,  50.])\n",
      "    \n",
      "        In [17]: W\n",
      "        Out[17]: array([  5.,  20.,  25.,  50.])\n",
      "    \n",
      "    The return value is determined by these rules:\n",
      "    \n",
      "    * If the cell is not None (i.e., has contents), the magic returns None.\n",
      "    \n",
      "    * If the final line results in a NULL value when evaluated\n",
      "      by rpy2, then None is returned.\n",
      "    \n",
      "    * No attempt is made to convert the final value to a structured array.\n",
      "      Use %Rget to push a structured array.\n",
      "    \n",
      "    * If the -n flag is present, there is no return value.\n",
      "    \n",
      "    * A trailing ';' will also result in no return value as the last\n",
      "      value in the line is an empty string.\n",
      "    \n",
      "    optional arguments:\n",
      "      -i INPUT, --input INPUT\n",
      "                            Names of input variable from shell.user_ns to be\n",
      "                            assigned to R variables of the same names after using\n",
      "                            the Converter self.converter. Multiple names can be\n",
      "                            passed separated only by commas with no whitespace.\n",
      "      -o OUTPUT, --output OUTPUT\n",
      "                            Names of variables to be pushed from rpy2 to\n",
      "                            shell.user_ns after executing cell body (rpy2's\n",
      "                            internal facilities will apply ri2ro as appropriate).\n",
      "                            Multiple names can be passed separated only by commas\n",
      "                            with no whitespace.\n",
      "      -n, --noreturn        Force the magic to not return anything.\n",
      "    \n",
      "    Plot:\n",
      "      Arguments to plotting device\n",
      "    \n",
      "      -w WIDTH, --width WIDTH\n",
      "                            Width of plotting device in R.\n",
      "      -h HEIGHT, --height HEIGHT\n",
      "                            Height of plotting device in R.\n",
      "      -p POINTSIZE, --pointsize POINTSIZE\n",
      "                            Pointsize of plotting device in R.\n",
      "      -b BG, --bg BG        Background of plotting device in R.\n",
      "    \n",
      "    SVG:\n",
      "      SVG specific arguments\n",
      "    \n",
      "      --noisolation         Disable SVG isolation in the Notebook. By default,\n",
      "                            SVGs are isolated to avoid namespace collisions\n",
      "                            between figures. Disabling SVG isolation allows to\n",
      "                            reference previous figures or share CSS rules across a\n",
      "                            set of SVGs.\n",
      "    \n",
      "    PNG:\n",
      "      PNG specific arguments\n",
      "    \n",
      "      -u <{px,in,cm,mm}>, --units <{px,in,cm,mm}>\n",
      "                            Units of png plotting device sent as an argument to\n",
      "                            *png* in R. One of [\"px\", \"in\", \"cm\", \"mm\"].\n",
      "      -r RES, --res RES     Resolution of png plotting device sent as an argument\n",
      "                            to *png* in R. Defaults to 72 if *units* is one of\n",
      "                            [\"in\", \"cm\", \"mm\"].\n",
      "      -c CONVERTER, --converter CONVERTER\n",
      "                            Name of local converter to use. A converter contains\n",
      "                            the rules to convert objects back and forth between\n",
      "                            Python and R. If not specified/None, the defaut\n",
      "                            converter for the magic's module is used (that is\n",
      "                            rpy2's default converter + numpy converter + pandas\n",
      "                            converter if all three are available).\n",
      "      code\n",
      "\n"
     ]
    }
   ],
   "source": [
    "help(rpy2.ipython.rmagic.RMagics.R)"
   ]
  },
  {
   "cell_type": "code",
   "execution_count": 42,
   "metadata": {},
   "outputs": [
    {
     "data": {
      "text/plain": [
       "array([4.25])"
      ]
     },
     "execution_count": 42,
     "metadata": {},
     "output_type": "execute_result"
    }
   ],
   "source": [
    "%R X=c(1,4,5,7); sd(X); mean(X)"
   ]
  },
  {
   "cell_type": "code",
   "execution_count": 43,
   "metadata": {},
   "outputs": [],
   "source": [
    "%%R\n",
    "Y = c(2,4,3,9)\n",
    "lm = lm(Y~X)\n",
    "summary(lm)"
   ]
  },
  {
   "cell_type": "code",
   "execution_count": 76,
   "metadata": {},
   "outputs": [
    {
     "data": {
      "image/png": "[encoded data removed]"
     },
     "metadata": {},
     "output_type": "display_data"
    }
   ],
   "source": [
    "%R -i result plot.fevd(result)"
   ]
  },
  {
   "cell_type": "code",
   "execution_count": 45,
   "metadata": {},
   "outputs": [
    {
     "data": {
      "image/png": "[encoded data removed]"
     },
     "metadata": {},
     "output_type": "display_data"
    },
    {
     "data": {
      "text/html": [
       "\n",
       "    <span>ListVector with 6 elements.</span>\n",
       "    <table>\n",
       "      <tbody>\n",
       "      \n",
       "      <tr>\n",
       "      <th>\n",
       "        breaks\n",
       "      </th>\n",
       "      <td>\n",
       "        \n",
       "    <span>FloatVector with 9 elements.</span>\n",
       "    <table>\n",
       "      <tbody>\n",
       "      <tr>\n",
       "      \n",
       "      <td>\n",
       "        1.000000\n",
       "      </td>\n",
       "      \n",
       "      <td>\n",
       "        1.500000\n",
       "      </td>\n",
       "      \n",
       "      <td>\n",
       "        2.000000\n",
       "      </td>\n",
       "      \n",
       "      <td>\n",
       "        2.500000\n",
       "      </td>\n",
       "      \n",
       "      <td>\n",
       "        ...\n",
       "      </td>\n",
       "      \n",
       "      <td>\n",
       "        3.500000\n",
       "      </td>\n",
       "      \n",
       "      <td>\n",
       "        4.000000\n",
       "      </td>\n",
       "      \n",
       "      <td>\n",
       "        4.500000\n",
       "      </td>\n",
       "      \n",
       "      <td>\n",
       "        5.000000\n",
       "      </td>\n",
       "      \n",
       "      </tr>\n",
       "      </tbody>\n",
       "    </table>\n",
       "    \n",
       "      </td>\n",
       "      </tr>\n",
       "      \n",
       "      <tr>\n",
       "      <th>\n",
       "        counts\n",
       "      </th>\n",
       "      <td>\n",
       "        \n",
       "    <span>IntVector with 8 elements.</span>\n",
       "    <table>\n",
       "      <tbody>\n",
       "      <tr>\n",
       "      \n",
       "      <td>\n",
       "        6\n",
       "      </td>\n",
       "      \n",
       "      <td>\n",
       "        5\n",
       "      </td>\n",
       "      \n",
       "      <td>\n",
       "        5\n",
       "      </td>\n",
       "      \n",
       "      <td>\n",
       "        5\n",
       "      </td>\n",
       "      \n",
       "      <td>\n",
       "        5\n",
       "      </td>\n",
       "      \n",
       "      <td>\n",
       "        5\n",
       "      </td>\n",
       "      \n",
       "      <td>\n",
       "        5\n",
       "      </td>\n",
       "      \n",
       "      <td>\n",
       "        4\n",
       "      </td>\n",
       "      \n",
       "      </tr>\n",
       "      </tbody>\n",
       "    </table>\n",
       "    \n",
       "      </td>\n",
       "      </tr>\n",
       "      \n",
       "      <tr>\n",
       "      <th>\n",
       "        density\n",
       "      </th>\n",
       "      <td>\n",
       "        \n",
       "    <span>FloatVector with 8 elements.</span>\n",
       "    <table>\n",
       "      <tbody>\n",
       "      <tr>\n",
       "      \n",
       "      <td>\n",
       "        0.300000\n",
       "      </td>\n",
       "      \n",
       "      <td>\n",
       "        0.250000\n",
       "      </td>\n",
       "      \n",
       "      <td>\n",
       "        0.250000\n",
       "      </td>\n",
       "      \n",
       "      <td>\n",
       "        0.250000\n",
       "      </td>\n",
       "      \n",
       "      <td>\n",
       "        0.250000\n",
       "      </td>\n",
       "      \n",
       "      <td>\n",
       "        0.250000\n",
       "      </td>\n",
       "      \n",
       "      <td>\n",
       "        0.250000\n",
       "      </td>\n",
       "      \n",
       "      <td>\n",
       "        0.200000\n",
       "      </td>\n",
       "      \n",
       "      </tr>\n",
       "      </tbody>\n",
       "    </table>\n",
       "    \n",
       "      </td>\n",
       "      </tr>\n",
       "      \n",
       "      <tr>\n",
       "      <th>\n",
       "        mids\n",
       "      </th>\n",
       "      <td>\n",
       "        \n",
       "    <span>FloatVector with 8 elements.</span>\n",
       "    <table>\n",
       "      <tbody>\n",
       "      <tr>\n",
       "      \n",
       "      <td>\n",
       "        1.250000\n",
       "      </td>\n",
       "      \n",
       "      <td>\n",
       "        1.750000\n",
       "      </td>\n",
       "      \n",
       "      <td>\n",
       "        2.250000\n",
       "      </td>\n",
       "      \n",
       "      <td>\n",
       "        2.750000\n",
       "      </td>\n",
       "      \n",
       "      <td>\n",
       "        3.250000\n",
       "      </td>\n",
       "      \n",
       "      <td>\n",
       "        3.750000\n",
       "      </td>\n",
       "      \n",
       "      <td>\n",
       "        4.250000\n",
       "      </td>\n",
       "      \n",
       "      <td>\n",
       "        4.750000\n",
       "      </td>\n",
       "      \n",
       "      </tr>\n",
       "      </tbody>\n",
       "    </table>\n",
       "    \n",
       "      </td>\n",
       "      </tr>\n",
       "      \n",
       "      <tr>\n",
       "      <th>\n",
       "        xname\n",
       "      </th>\n",
       "      <td>\n",
       "        \n",
       "    <span>StrVector with 1 elements.</span>\n",
       "    <table>\n",
       "      <tbody>\n",
       "      <tr>\n",
       "      \n",
       "      <td>\n",
       "        'var_from_python'\n",
       "      </td>\n",
       "      \n",
       "      </tr>\n",
       "      </tbody>\n",
       "    </table>\n",
       "    \n",
       "      </td>\n",
       "      </tr>\n",
       "      \n",
       "      <tr>\n",
       "      <th>\n",
       "        equidist\n",
       "      </th>\n",
       "      <td>\n",
       "        \n",
       "    <span>BoolVector with 1 elements.</span>\n",
       "    <table>\n",
       "      <tbody>\n",
       "      <tr>\n",
       "      \n",
       "      <td>\n",
       "               1\n",
       "      </td>\n",
       "      \n",
       "      </tr>\n",
       "      </tbody>\n",
       "    </table>\n",
       "    \n",
       "      </td>\n",
       "      </tr>\n",
       "      \n",
       "      </tbody>\n",
       "    </table>\n",
       "    "
      ],
      "text/plain": [
       "R object with classes: ('histogram',) mapped to:\n",
       "<ListVector - Python:0x000001A5EDCCDE08 / R:0x000001A5F0791F10>\n",
       "[Float..., IntVe..., Float..., Float..., StrVe..., BoolV...]\n",
       "  breaks: <class 'rpy2.robjects.vectors.FloatVector'>\n",
       "  R object with classes: ('numeric',) mapped to:\n",
       "<FloatVector - Python:0x000001A5EDCCF248 / R:0x000001A5F0747038>\n",
       "[1.000000, 1.500000, 2.000000, 2.500000, ..., 3.500000, 4.000000, 4.500000, 5.000000]\n",
       "  counts: <class 'rpy2.robjects.vectors.IntVector'>\n",
       "  R object with classes: ('integer',) mapped to:\n",
       "<IntVector - Python:0x000001A5EDA22488 / R:0x000001A5F07B2598>\n",
       "[6, 5, 5, 5, 5, 5, 5, 4]\n",
       "  density: <class 'rpy2.robjects.vectors.FloatVector'>\n",
       "  R object with classes: ('numeric',) mapped to:\n",
       "<FloatVector - Python:0x000001A5ED715388 / R:0x000001A5F07923E0>\n",
       "[0.300000, 0.250000, 0.250000, 0.250000, 0.250000, 0.250000, 0.250000, 0.200000]\n",
       "  mids: <class 'rpy2.robjects.vectors.FloatVector'>\n",
       "  R object with classes: ('numeric',) mapped to:\n",
       "<FloatVector - Python:0x000001A5ED7150C8 / R:0x000001A5F0792140>\n",
       "[1.250000, 1.750000, 2.250000, 2.750000, 3.250000, 3.750000, 4.250000, 4.750000]\n",
       "  xname: <class 'rpy2.robjects.vectors.StrVector'>\n",
       "  R object with classes: ('character',) mapped to:\n",
       "<StrVector - Python:0x000001A5ED715248 / R:0x000001A5F0790290>\n",
       "['var_from_python']\n",
       "  equidist: <class 'rpy2.robjects.vectors.BoolVector'>\n",
       "  R object with classes: ('logical',) mapped to:\n",
       "<BoolVector - Python:0x000001A5ED715E08 / R:0x000001A5E9753E10>\n",
       "[       1]"
      ]
     },
     "execution_count": 45,
     "metadata": {},
     "output_type": "execute_result"
    }
   ],
   "source": [
    "%R -i var_from_python hist(var_from_python)"
   ]
  },
  {
   "cell_type": "markdown",
   "metadata": {},
   "source": [
    "# Un ejemplo complejo de R, Python y RMagic"
   ]
  },
  {
   "cell_type": "code",
   "execution_count": 46,
   "metadata": {},
   "outputs": [],
   "source": [
    "metodos = [\"MLE\", \"GMLE\"]\n",
    "tipo = [\"GEV\", \"Gumbel\"]"
   ]
  },
  {
   "cell_type": "code",
   "execution_count": 69,
   "metadata": {},
   "outputs": [
    {
     "data": {
      "text/plain": [
       "array([22.2, 25.5, 21.5, 22.5, 23.7, 22.5, 21.7, 29.7, 24.2, 23.8, 28.1,\n",
       "       23.4, 23.7, 25.6, 23.2, 24.9, 22.8, 24.6, 22.3, 25.5, 22.6, 24. ,\n",
       "       20.8, 23.5, 24.4, 24.1, 25.1, 19.4, 22.8, 24.2, 25. , 25.3])"
      ]
     },
     "execution_count": 69,
     "metadata": {},
     "output_type": "execute_result"
    }
   ],
   "source": [
    "max_ws.values"
   ]
  },
  {
   "cell_type": "code",
   "execution_count": 96,
   "metadata": {},
   "outputs": [
    {
     "name": "stdout",
     "output_type": "stream",
     "text": [
      "Tipo de Ajuste: GEV\n",
      "Método del ajuste: MLE\n",
      "$par\n",
      "\r\n",
      "  location      scale      shape \n",
      "\r\n",
      "23.0517078  1.8085853 -0.1497984 \n",
      "\r\n",
      "\n",
      "\r\n",
      "$value\n",
      "\r\n",
      "[1] 66.22729\n",
      "\r\n",
      "\n",
      "\r\n",
      "$counts\n",
      "\r\n",
      "function gradient \n",
      "\r\n",
      "      28        6 \n",
      "\r\n",
      "\n",
      "\r\n",
      "$convergence\n",
      "\r\n",
      "[1] 0\n",
      "\r\n",
      "\n",
      "\r\n",
      "$message\n",
      "\r\n",
      "NULL\n",
      "\r\n",
      "\n",
      "\r\n",
      "$hessian\n",
      "\r\n",
      "           location      scale     shape\n",
      "\r\n",
      "location  9.1825628 -0.3982934  11.22038\n",
      "\r\n",
      "scale    -0.3982934 21.4422632  19.81854\n",
      "\r\n",
      "shape    11.2203805 19.8185358 172.17411\n",
      "\r\n",
      "\n",
      "\r\n",
      "$num.pars\n",
      "\r\n",
      "$num.pars$location\n",
      "\r\n",
      "[1] 1\n",
      "\r\n",
      "\n",
      "\r\n",
      "$num.pars$scale\n",
      "\r\n",
      "[1] 1\n",
      "\r\n",
      "\n",
      "\r\n",
      "$num.pars$shape\n",
      "\r\n",
      "[1] 1\n",
      "\r\n",
      "\n",
      "\r\n",
      "\n",
      "\n"
     ]
    },
    {
     "data": {
      "image/png": "[encoded data removed]"
     },
     "metadata": {},
     "output_type": "display_data"
    },
    {
     "name": "stdout",
     "output_type": "stream",
     "text": [
      "Tipo de Ajuste: GEV\n",
      "Método del ajuste: GMLE\n",
      "$par\n",
      "\r\n",
      "  location      scale      shape \n",
      "\r\n",
      "23.0639415  1.7576913 -0.1628816 \n",
      "\r\n",
      "\n",
      "\r\n",
      "$value\n",
      "\r\n",
      "[1] 1e+16\n",
      "\r\n",
      "\n",
      "\r\n",
      "$counts\n",
      "\r\n",
      "function gradient \n",
      "\r\n",
      "       1        1 \n",
      "\r\n",
      "\n",
      "\r\n",
      "$convergence\n",
      "\r\n",
      "[1] 0\n",
      "\r\n",
      "\n",
      "\r\n",
      "$message\n",
      "\r\n",
      "NULL\n",
      "\r\n",
      "\n",
      "\r\n",
      "$hessian\n",
      "\r\n",
      "         location scale shape\n",
      "\r\n",
      "location        0     0     0\n",
      "\r\n",
      "scale           0     0     0\n",
      "\r\n",
      "shape           0     0     0\n",
      "\r\n",
      "\n",
      "\r\n",
      "$num.pars\n",
      "\r\n",
      "$num.pars$location\n",
      "\r\n",
      "[1] 1\n",
      "\r\n",
      "\n",
      "\r\n",
      "$num.pars$scale\n",
      "\r\n",
      "[1] 1\n",
      "\r\n",
      "\n",
      "\r\n",
      "$num.pars$shape\n",
      "\r\n",
      "[1] 1\n",
      "\r\n",
      "\n",
      "\r\n",
      "\n",
      "\n"
     ]
    },
    {
     "data": {
      "image/png": "[encoded data removed]"
     },
     "metadata": {},
     "output_type": "display_data"
    },
    {
     "name": "stdout",
     "output_type": "stream",
     "text": [
      "Tipo de Ajuste: Gumbel\n",
      "Método del ajuste: MLE\n",
      "$par\n",
      "\r\n",
      " location     scale \n",
      "\r\n",
      "22.905876  1.814452 \n",
      "\r\n",
      "\n",
      "\r\n",
      "$value\n",
      "\r\n",
      "[1] 67.38487\n",
      "\r\n",
      "\n",
      "\r\n",
      "$counts\n",
      "\r\n",
      "function gradient \n",
      "\r\n",
      "      14        5 \n",
      "\r\n",
      "\n",
      "\r\n",
      "$convergence\n",
      "\r\n",
      "[1] 0\n",
      "\r\n",
      "\n",
      "\r\n",
      "$message\n",
      "\r\n",
      "NULL\n",
      "\r\n",
      "\n",
      "\r\n",
      "$hessian\n",
      "\r\n",
      "          location     scale\n",
      "\r\n",
      "location  9.719762 -4.762621\n",
      "\r\n",
      "scale    -4.762621 21.535378\n",
      "\r\n",
      "\n",
      "\r\n",
      "$num.pars\n",
      "\r\n",
      "$num.pars$location\n",
      "\r\n",
      "[1] 1\n",
      "\r\n",
      "\n",
      "\r\n",
      "$num.pars$scale\n",
      "\r\n",
      "[1] 1\n",
      "\r\n",
      "\n",
      "\r\n",
      "$num.pars$shape\n",
      "\r\n",
      "NULL\n",
      "\r\n",
      "\n",
      "\r\n",
      "\n",
      "\n"
     ]
    },
    {
     "data": {
      "image/png": "[encoded data removed]"
     },
     "metadata": {},
     "output_type": "display_data"
    },
    {
     "name": "stdout",
     "output_type": "stream",
     "text": [
      "Tipo de Ajuste: Gumbel\n",
      "Método del ajuste: GMLE\n",
      "$par\n",
      "\r\n",
      " location     scale \n",
      "\r\n",
      "22.905876  1.814452 \n",
      "\r\n",
      "\n",
      "\r\n",
      "$value\n",
      "\r\n",
      "[1] 67.38487\n",
      "\r\n",
      "\n",
      "\r\n",
      "$counts\n",
      "\r\n",
      "function gradient \n",
      "\r\n",
      "      14        5 \n",
      "\r\n",
      "\n",
      "\r\n",
      "$convergence\n",
      "\r\n",
      "[1] 0\n",
      "\r\n",
      "\n",
      "\r\n",
      "$message\n",
      "\r\n",
      "NULL\n",
      "\r\n",
      "\n",
      "\r\n",
      "$hessian\n",
      "\r\n",
      "          location     scale\n",
      "\r\n",
      "location  9.719762 -4.762621\n",
      "\r\n",
      "scale    -4.762621 21.535378\n",
      "\r\n",
      "\n",
      "\r\n",
      "$num.pars\n",
      "\r\n",
      "$num.pars$location\n",
      "\r\n",
      "[1] 1\n",
      "\r\n",
      "\n",
      "\r\n",
      "$num.pars$scale\n",
      "\r\n",
      "[1] 1\n",
      "\r\n",
      "\n",
      "\r\n",
      "$num.pars$shape\n",
      "\r\n",
      "NULL\n",
      "\r\n",
      "\n",
      "\r\n",
      "\n",
      "\n"
     ]
    },
    {
     "data": {
      "image/png": "[encoded data removed]"
     },
     "metadata": {},
     "output_type": "display_data"
    }
   ],
   "source": [
    "for t in tipo:\n",
    "    for m in metodos:\n",
    "        print(\"Tipo de Ajuste:\", t)\n",
    "        print(\"Método del ajuste:\", m)\n",
    "        result = fevd(max_ws.values, method = m, type = t)\n",
    "        print(result.rx(\"results\")[0])\n",
    "        %R -i result plot.fevd(result)"
   ]
  },
  {
   "cell_type": "code",
   "execution_count": null,
   "metadata": {},
   "outputs": [],
   "source": []
  },
  {
   "cell_type": "code",
   "execution_count": null,
   "metadata": {},
   "outputs": [],
   "source": []
  },
  {
   "cell_type": "code",
   "execution_count": null,
   "metadata": {},
   "outputs": [],
   "source": []
  }
 ],
 "metadata": {
  "kernelspec": {
   "display_name": "Python 3",
   "language": "python",
   "name": "python3"
  },
  "language_info": {
   "codemirror_mode": {
    "name": "ipython",
    "version": 3
   },
   "file_extension": ".py",
   "mimetype": "text/x-python",
   "name": "python",
   "nbconvert_exporter": "python",
   "pygments_lexer": "ipython3",
   "version": "3.7.4"
  }
 },
 "nbformat": 4,
 "nbformat_minor": 2
}
