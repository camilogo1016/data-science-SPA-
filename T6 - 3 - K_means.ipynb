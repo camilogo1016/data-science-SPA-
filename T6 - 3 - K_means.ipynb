{
 "cells": [
  {
   "cell_type": "markdown",
   "metadata": {},
   "source": [
    "## El Método de K-Means"
   ]
  },
  {
   "cell_type": "code",
   "execution_count": 17,
   "metadata": {},
   "outputs": [],
   "source": [
    "import numpy as np"
   ]
  },
  {
   "cell_type": "code",
   "execution_count": 18,
   "metadata": {},
   "outputs": [],
   "source": [
    "data = np.random.random(90).reshape(30,3)"
   ]
  },
  {
   "cell_type": "code",
   "execution_count": 22,
   "metadata": {},
   "outputs": [
    {
     "data": {
      "text/plain": [
       "array([[0.63149921, 0.87181336, 0.69323898],\n",
       "       [0.02939157, 0.49733841, 0.0100447 ]])"
      ]
     },
     "execution_count": 22,
     "metadata": {},
     "output_type": "execute_result"
    }
   ],
   "source": [
    "c1 = np.random.choice(range(len(data)))\n",
    "c2 = np.random.choice(range(len(data)))\n",
    "clust_centers = np.vstack([data[c1], data[c2]])\n",
    "clust_centers"
   ]
  },
  {
   "cell_type": "code",
   "execution_count": 23,
   "metadata": {},
   "outputs": [],
   "source": [
    "from scipy.cluster.vq import vq"
   ]
  },
  {
   "cell_type": "markdown",
   "metadata": {},
   "source": [
    "La función vq(data, clusters) arroja dos arreglos.\n",
    "* 1. Cada dato de \"data\" a cuál cluster pertenece\n",
    "* 2. La distancia de cada dato de \"data\" hasta su cluster"
   ]
  },
  {
   "cell_type": "code",
   "execution_count": 25,
   "metadata": {},
   "outputs": [
    {
     "data": {
      "text/plain": [
       "(array([0, 0, 0, 0, 0, 0, 1, 0, 1, 0, 1, 0, 0, 0, 1, 0, 0, 1, 1, 0, 0, 1,\n",
       "        1, 0, 0, 0, 0, 1, 0, 1]),\n",
       " array([0.70106476, 0.91010175, 0.15948481, 0.44525349, 0.90699844,\n",
       "        0.48314557, 0.58228561, 0.56372068, 0.77355846, 0.61051505,\n",
       "        0.71348297, 0.17841916, 0.92196782, 0.26955943, 0.        ,\n",
       "        0.        , 0.50023439, 0.5518341 , 0.44047345, 0.30969668,\n",
       "        0.21994693, 0.87029657, 0.59578531, 0.90632357, 0.55352955,\n",
       "        0.2313241 , 0.38099945, 0.41908605, 0.53013788, 0.63243065]))"
      ]
     },
     "execution_count": 25,
     "metadata": {},
     "output_type": "execute_result"
    }
   ],
   "source": [
    "vq(data, clust_centers)"
   ]
  },
  {
   "cell_type": "code",
   "execution_count": 26,
   "metadata": {},
   "outputs": [],
   "source": [
    "from scipy.cluster.vq import kmeans"
   ]
  },
  {
   "cell_type": "markdown",
   "metadata": {},
   "source": [
    "La función kmeans(data, clusters) arroja los centros de cada k cluster y la suma total de distancias cuadradas (es un porcentaje de error)\n",
    "\n",
    "La función kmeans(data, k) arroja los centros de los k clusters y la distancia total (mientras menor sea, mejor)"
   ]
  },
  {
   "cell_type": "code",
   "execution_count": 28,
   "metadata": {},
   "outputs": [
    {
     "data": {
      "text/plain": [
       "(array([[0.67120522, 0.55206604, 0.64686962],\n",
       "        [0.40249532, 0.44606677, 0.21016083]]), 0.4177179942048118)"
      ]
     },
     "execution_count": 28,
     "metadata": {},
     "output_type": "execute_result"
    }
   ],
   "source": [
    "kmeans(data, clust_centers)"
   ]
  },
  {
   "cell_type": "code",
   "execution_count": 29,
   "metadata": {},
   "outputs": [
    {
     "data": {
      "text/plain": [
       "(array([[0.57958189, 0.28185604, 0.49902657],\n",
       "        [0.5847153 , 0.86904832, 0.50471019]]), 0.39316581929983824)"
      ]
     },
     "execution_count": 29,
     "metadata": {},
     "output_type": "execute_result"
    }
   ],
   "source": [
    "kmeans(data, 2)"
   ]
  },
  {
   "cell_type": "code",
   "execution_count": null,
   "metadata": {},
   "outputs": [],
   "source": []
  }
 ],
 "metadata": {
  "kernelspec": {
   "display_name": "Python 3",
   "language": "python",
   "name": "python3"
  },
  "language_info": {
   "codemirror_mode": {
    "name": "ipython",
    "version": 3
   },
   "file_extension": ".py",
   "mimetype": "text/x-python",
   "name": "python",
   "nbconvert_exporter": "python",
   "pygments_lexer": "ipython3",
   "version": "3.7.4"
  }
 },
 "nbformat": 4,
 "nbformat_minor": 2
}
